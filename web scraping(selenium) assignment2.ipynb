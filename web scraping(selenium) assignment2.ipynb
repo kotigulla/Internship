{
 "cells": [
  {
   "cell_type": "code",
   "execution_count": null,
   "id": "7af24ea7",
   "metadata": {},
   "outputs": [],
   "source": [
    "# let's mport all required libraries\n",
    "import selenium\n",
    "from selenium import webdriver\n",
    "import pandas as pd\n",
    "import warnings\n",
    "warnings.filterwarnings(\"ignore\")\n"
   ]
  },
  {
   "cell_type": "markdown",
   "id": "1e2cf556",
   "metadata": {},
   "source": [
    "(Q1) Write a python program to scrape data for “Data Analyst” Job position in “Bangalore” location. You\n",
    "have to scrape the job-title, job-location, company_name, experience_required. You have to scrape first 10\n",
    "jobs data.\n",
    "This task will be done in following steps:\n",
    "1. First get the webpage https://www.naukri.com/\n",
    "2. Enter “Data Analyst” in “Skill, Designations, Companies” field and enter “Bangalore” in “enter the\n",
    "location” field.\n",
    "3. Then click the search button.\n",
    "4. Then scrape the data for the first 10 jobs results you get.\n",
    "5. Finally create a dataframe of the scraped data.\n"
   ]
  },
  {
   "cell_type": "code",
   "execution_count": null,
   "id": "bed7a1b4",
   "metadata": {},
   "outputs": [],
   "source": [
    "# connect web driver\n",
    "driver=webdriver.Chrome(r\"C:\\Users\\91832\\Downloads\\chromedriver_win32\\chromedriver.exe\")"
   ]
  },
  {
   "cell_type": "code",
   "execution_count": null,
   "id": "d8da00fe",
   "metadata": {},
   "outputs": [],
   "source": [
    "url='https://www.naukri.com/'\n",
    "driver.get(url)"
   ]
  },
  {
   "cell_type": "code",
   "execution_count": null,
   "id": "483b0443",
   "metadata": {},
   "outputs": [],
   "source": [
    "# finding web element for search jobs\n",
    "search_job=driver.find_element_by_class_name(\"suggestor-input \")"
   ]
  },
  {
   "cell_type": "code",
   "execution_count": null,
   "id": "2b074a71",
   "metadata": {},
   "outputs": [],
   "source": [
    "#write on search bar\n",
    "search_job.send_keys(\"Data Analyst\")"
   ]
  },
  {
   "cell_type": "code",
   "execution_count": null,
   "id": "bd338cfa",
   "metadata": {},
   "outputs": [],
   "source": [
    "search_lcn=driver.find_element_by_xpath(\"/html/body/div/div[2]/div[3]/div/div/div[3]/div/div/div/input\")\n",
    "search_lcn.send_keys(\"Bangalore\")"
   ]
  },
  {
   "cell_type": "code",
   "execution_count": null,
   "id": "f9d1d9f7",
   "metadata": {},
   "outputs": [],
   "source": [
    "search_btn=driver.find_element_by_class_name(\"qsbSubmit\")\n",
    "search_btn.click()"
   ]
  },
  {
   "cell_type": "markdown",
   "id": "ffd22fb4",
   "metadata": {},
   "source": [
    "### Extracting job titles"
   ]
  },
  {
   "cell_type": "code",
   "execution_count": null,
   "id": "497b4d04",
   "metadata": {},
   "outputs": [],
   "source": [
    "title_tags=driver.find_elements_by_xpath('//a[@class=\"title fw500 ellipsis\"]')\n",
    "title_tags"
   ]
  },
  {
   "cell_type": "code",
   "execution_count": null,
   "id": "b5eca7ff",
   "metadata": {},
   "outputs": [],
   "source": [
    "job_titles=[]\n",
    "for i in title_tags:\n",
    "    job_titles.append(i.text)\n",
    "job_titles"
   ]
  },
  {
   "cell_type": "markdown",
   "id": "be4fc8ca",
   "metadata": {},
   "source": [
    "### Extracting company names"
   ]
  },
  {
   "cell_type": "code",
   "execution_count": null,
   "id": "18220274",
   "metadata": {},
   "outputs": [],
   "source": [
    "company_tags=driver.find_elements_by_xpath('//a[@class=\"subTitle ellipsis fleft\"]')\n",
    "company_tags"
   ]
  },
  {
   "cell_type": "code",
   "execution_count": null,
   "id": "ab05da2b",
   "metadata": {},
   "outputs": [],
   "source": [
    "company_names=[]\n",
    "for i in company_tags:\n",
    "    company_names.append(i.text)\n",
    "company_names"
   ]
  },
  {
   "cell_type": "markdown",
   "id": "43b0b1bc",
   "metadata": {},
   "source": [
    "### Extracting locations"
   ]
  },
  {
   "cell_type": "code",
   "execution_count": null,
   "id": "7e50567c",
   "metadata": {},
   "outputs": [],
   "source": [
    "lcn_tags=driver.find_elements_by_xpath('//li[@class=\"fleft grey-text br2 placeHolderLi location\"]')\n",
    "lcn_tags"
   ]
  },
  {
   "cell_type": "code",
   "execution_count": null,
   "id": "429ab122",
   "metadata": {},
   "outputs": [],
   "source": [
    "job_lcn=[]\n",
    "for i in lcn_tags:\n",
    "    job_lcn.append(i.text)\n",
    "job_lcn"
   ]
  },
  {
   "cell_type": "markdown",
   "id": "efcf04d0",
   "metadata": {},
   "source": [
    "### Extracting experience"
   ]
  },
  {
   "cell_type": "code",
   "execution_count": null,
   "id": "b5106ab5",
   "metadata": {},
   "outputs": [],
   "source": [
    "exp_tags=driver.find_elements_by_xpath('//*[contains(@title,\"Yrs\")]')\n",
    "exp_tags"
   ]
  },
  {
   "cell_type": "code",
   "execution_count": null,
   "id": "0c1697d5",
   "metadata": {},
   "outputs": [],
   "source": [
    "experience=[]\n",
    "for i in exp_tags:\n",
    "    experience.append(i.text)\n",
    "experience"
   ]
  },
  {
   "cell_type": "code",
   "execution_count": null,
   "id": "5de1ac7b",
   "metadata": {},
   "outputs": [],
   "source": [
    "len(job_titles),len(company_tags),len(job_lcn),len(experience)"
   ]
  },
  {
   "cell_type": "markdown",
   "id": "191caff6",
   "metadata": {},
   "source": [
    "### creating data frame"
   ]
  },
  {
   "cell_type": "code",
   "execution_count": null,
   "id": "51a790c1",
   "metadata": {},
   "outputs": [],
   "source": [
    "df=pd.DataFrame()\n",
    "df[' job-title']=job_titles\n",
    "df[' job-location']=job_lcn\n",
    "df[' company_name']=company_names\n",
    "df['experience_required']=experience\n",
    "df.head(10)"
   ]
  },
  {
   "cell_type": "markdown",
   "id": "0c4e673b",
   "metadata": {},
   "source": [
    "(Q2) Write a python program to scrape data for “Data Scientist” Job position in “Bangalore” location. You\n",
    "have to scrape the job-title, job-location, company_name. You have to scrape first 10 jobs data.\n",
    "This task will be done in following steps:\n",
    "1. First get the webpage https://www.naukri.com/\n",
    "2. Enter “Data Scientist” in “Skill, Designations, Companies” field and enter “Bangalore” in “enter the\n",
    "location” field.\n",
    "3. Then click the search button.\n",
    "4. Then scrape the data for the first 10 jobs results you get.\n",
    "5. Finally create a dataframe of the scraped data"
   ]
  },
  {
   "cell_type": "code",
   "execution_count": null,
   "id": "fffb6c0d",
   "metadata": {},
   "outputs": [],
   "source": [
    "driver=webdriver.Chrome(r\"C:\\Users\\91832\\Downloads\\chromedriver_win32\\chromedriver.exe\")"
   ]
  },
  {
   "cell_type": "code",
   "execution_count": null,
   "id": "5450056f",
   "metadata": {},
   "outputs": [],
   "source": [
    "url='https://www.naukri.com/'\n",
    "driver.get(url)"
   ]
  },
  {
   "cell_type": "code",
   "execution_count": null,
   "id": "56c703a6",
   "metadata": {},
   "outputs": [],
   "source": [
    "search_job=driver.find_element_by_class_name(\"suggestor-input \")\n",
    "search_job.send_keys(\"Data Scientist\")"
   ]
  },
  {
   "cell_type": "code",
   "execution_count": null,
   "id": "c309828c",
   "metadata": {},
   "outputs": [],
   "source": [
    "search_lcn=driver.find_element_by_xpath(\"/html/body/div/div[2]/div[3]/div/div/div[3]/div/div/div/input\")\n",
    "search_lcn.send_keys(\"Bangalore\")"
   ]
  },
  {
   "cell_type": "code",
   "execution_count": null,
   "id": "a2406bde",
   "metadata": {},
   "outputs": [],
   "source": [
    "search_btn=driver.find_element_by_class_name('qsbSubmit')\n",
    "search_btn.click()"
   ]
  },
  {
   "cell_type": "markdown",
   "id": "5d4f3473",
   "metadata": {},
   "source": [
    "### extracting job_titles"
   ]
  },
  {
   "cell_type": "code",
   "execution_count": null,
   "id": "dc0cf951",
   "metadata": {},
   "outputs": [],
   "source": [
    "title_tags=driver.find_elements_by_xpath('//a[@class=\"title fw500 ellipsis\"]')\n",
    "title_tags"
   ]
  },
  {
   "cell_type": "code",
   "execution_count": null,
   "id": "f4baaf13",
   "metadata": {},
   "outputs": [],
   "source": [
    "job_titles=[]\n",
    "for i in title_tags:\n",
    "    job_titles.append(i.text)\n",
    "job_titles"
   ]
  },
  {
   "cell_type": "markdown",
   "id": "c8b76cf0",
   "metadata": {},
   "source": [
    "### extracting job_locations"
   ]
  },
  {
   "cell_type": "code",
   "execution_count": null,
   "id": "a36d9ef0",
   "metadata": {},
   "outputs": [],
   "source": [
    "lcn_tags=driver.find_elements_by_xpath('//li[@class=\"fleft grey-text br2 placeHolderLi location\"]')\n",
    "lcn_tags"
   ]
  },
  {
   "cell_type": "code",
   "execution_count": null,
   "id": "60d3b666",
   "metadata": {},
   "outputs": [],
   "source": [
    "job_lcn=[]\n",
    "for i in lcn_tags:\n",
    "    job_lcn.append(i.text)\n",
    "job_lcn"
   ]
  },
  {
   "cell_type": "code",
   "execution_count": null,
   "id": "27e991c2",
   "metadata": {},
   "outputs": [],
   "source": [
    "company_tags=driver.find_elements_by_xpath('//a[@class=\"subTitle ellipsis fleft\"]')\n",
    "company_tags"
   ]
  },
  {
   "cell_type": "code",
   "execution_count": null,
   "id": "c961fda4",
   "metadata": {},
   "outputs": [],
   "source": [
    "company_names=[]\n",
    "for i in company_tags:\n",
    "    company_names.append(i.text)\n",
    "company_names"
   ]
  },
  {
   "cell_type": "markdown",
   "id": "f70340a7",
   "metadata": {},
   "source": [
    "### creating data frame"
   ]
  },
  {
   "cell_type": "code",
   "execution_count": null,
   "id": "65fe79d3",
   "metadata": {},
   "outputs": [],
   "source": [
    "df=pd.DataFrame()\n",
    "df[' job-title']=job_titles\n",
    "df[' job-location']=job_lcn\n",
    "df[' company_name']=company_names\n",
    "\n",
    "df.head(10)"
   ]
  },
  {
   "cell_type": "markdown",
   "id": "ce01e3fd",
   "metadata": {},
   "source": [
    "(Q3) In this question you have to scrape data using the filters available on the webpage as shown below\n",
    "You have to use the location and salary filter.\n",
    "You have to scrape data for “Data Scientist” designation for first 10 job results.\n",
    "You have to scrape the job-title, job-location, company name, experience required.\n",
    "The location filter to be used is “Delhi/NCR”. The salary filter to be used is “3-6” lakhs\n",
    "The task will be done as shown in the below steps:\n",
    "1. first get the webpage https://www.naukri.com/\n",
    "2. Enter “Data Scientist” in “Skill, Designations, and Companies” field.\n",
    "3. Then click the search button.\n",
    "4. Then apply the location filter and salary filter by checking the respective boxes\n",
    "5. Then scrape the data for the first 10 jobs results you get.\n",
    "6. Finally create a dataframe of the scraped data.\n"
   ]
  },
  {
   "cell_type": "code",
   "execution_count": null,
   "id": "774d42e8",
   "metadata": {},
   "outputs": [],
   "source": [
    "# connect web driver and get the url\n",
    "driver=webdriver.Chrome(r\"C:\\Users\\91832\\Downloads\\chromedriver_win32\\chromedriver.exe\")\n",
    "url='https://www.naukri.com/'\n",
    "driver.get(url)"
   ]
  },
  {
   "cell_type": "code",
   "execution_count": null,
   "id": "e00d8a25",
   "metadata": {},
   "outputs": [],
   "source": [
    "# finding web element for job search bar and write in job bar\n",
    "search_job=driver.find_element_by_class_name(\"suggestor-input \")\n",
    "search_job.send_keys('Data Scientist')"
   ]
  },
  {
   "cell_type": "code",
   "execution_count": null,
   "id": "db803ac2",
   "metadata": {},
   "outputs": [],
   "source": [
    "# find web element for search and click\n",
    "search_btn=driver.find_element_by_class_name(\"qsbSubmit\")\n",
    "search_btn.click()"
   ]
  },
  {
   "cell_type": "code",
   "execution_count": null,
   "id": "7ec909b9",
   "metadata": {},
   "outputs": [],
   "source": [
    "lcn_check=driver.find_element_by_xpath(\"//span[@title='Delhi / NCR']\")\n",
    "lcn_check.click()"
   ]
  },
  {
   "cell_type": "code",
   "execution_count": null,
   "id": "9043cb53",
   "metadata": {},
   "outputs": [],
   "source": [
    "salary_check=driver.find_element_by_xpath(\"//span[@title='3-6 Lakhs']\")\n",
    "salary_check.click()\n"
   ]
  },
  {
   "cell_type": "code",
   "execution_count": null,
   "id": "01363401",
   "metadata": {},
   "outputs": [],
   "source": [
    "title_tags=driver.find_elements_by_xpath('//a[@class=\"title fw500 ellipsis\"]')\n",
    "title_tags"
   ]
  },
  {
   "cell_type": "code",
   "execution_count": null,
   "id": "e485396e",
   "metadata": {},
   "outputs": [],
   "source": [
    "job_titles=[]\n",
    "for i in title_tags:\n",
    "    job_titles.append(i.text)\n",
    "job_titles"
   ]
  },
  {
   "cell_type": "code",
   "execution_count": null,
   "id": "c2b0de80",
   "metadata": {},
   "outputs": [],
   "source": [
    "lcn_tags=driver.find_elements_by_xpath('//li[@class=\"fleft grey-text br2 placeHolderLi location\"]')\n",
    "lcn_tags"
   ]
  },
  {
   "cell_type": "code",
   "execution_count": null,
   "id": "deb80a15",
   "metadata": {},
   "outputs": [],
   "source": [
    "job_lcn=[]\n",
    "for i in lcn_tags:\n",
    "    job_lcn.append(i.text)\n",
    "job_lcn"
   ]
  },
  {
   "cell_type": "code",
   "execution_count": null,
   "id": "aa31ee74",
   "metadata": {},
   "outputs": [],
   "source": [
    "company_tags=driver.find_elements_by_xpath('//a[@class=\"subTitle ellipsis fleft\"]')\n",
    "company_tags\n",
    "company_names=[]\n",
    "for i in company_tags:\n",
    "    company_names.append(i.text)\n",
    "company_names"
   ]
  },
  {
   "cell_type": "code",
   "execution_count": null,
   "id": "330fdfde",
   "metadata": {},
   "outputs": [],
   "source": [
    "exp_tags=driver.find_elements_by_xpath('//*[contains(@title,\"Yrs\")]')\n",
    "exp_tags\n",
    "experience=[]\n",
    "for i in exp_tags:\n",
    "    experience.append(i.text.replace('Yrs',''))\n",
    "experience"
   ]
  },
  {
   "cell_type": "code",
   "execution_count": null,
   "id": "4536b423",
   "metadata": {},
   "outputs": [],
   "source": [
    "df=pd.DataFrame()\n",
    "df[' job-title']=job_titles\n",
    "df[' job-location']=job_lcn\n",
    "df[' company_name']=company_names\n",
    "df['experience_required(yrs)']=experience\n",
    "df.head(10)"
   ]
  },
  {
   "cell_type": "markdown",
   "id": "82116177",
   "metadata": {},
   "source": [
    "(Q4) Scrape data of first 100 sunglasses listings on flipkart.com. You have to scrape four attributes:\n",
    "1. Brand\n",
    "2. Product Description\n",
    "3. Price\n",
    "To scrape the data you have to go through following steps:\n",
    "1. Go to Flipkart webpage by url : https://www.flipkart.com/\n",
    "2. Enter “sunglasses” in the search field where “search for products, brands andmore” is written and\n",
    "click the search icon\n",
    "3. After that you will reach to the page having a lot of sunglasses. From this pageyou can scrap the\n",
    "required data as usual.\n",
    "4. After scraping data from the first page, go to the “Next” Button at the bottom ofthe page , then\n",
    "click on it.\n",
    "5. Now scrape data from this page as usual\n",
    "6. Repeat this until you get data for 100 sunglasses."
   ]
  },
  {
   "cell_type": "code",
   "execution_count": null,
   "id": "1b1b251c",
   "metadata": {},
   "outputs": [],
   "source": [
    "driver=webdriver.Chrome(r\"C:\\Users\\91832\\Downloads\\chromedriver_win32\\chromedriver.exe\")\n",
    "driver"
   ]
  },
  {
   "cell_type": "code",
   "execution_count": null,
   "id": "d5332a88",
   "metadata": {},
   "outputs": [],
   "source": [
    "url='https://www.flipkart.com/'\n",
    "driver.get(url)"
   ]
  },
  {
   "cell_type": "code",
   "execution_count": null,
   "id": "1404e3fc",
   "metadata": {},
   "outputs": [],
   "source": [
    "search_sunglasses=driver.find_element_by_class_name(\"_3704LK\")\n",
    "search_sunglasses.send_keys('sunglasses')"
   ]
  },
  {
   "cell_type": "code",
   "execution_count": null,
   "id": "04414c98",
   "metadata": {},
   "outputs": [],
   "source": [
    "search_btn=driver.find_element_by_class_name(\"L0Z3Pu\")\n",
    "search_btn.submit()"
   ]
  },
  {
   "cell_type": "markdown",
   "id": "6c5d4de3",
   "metadata": {},
   "source": [
    "### Extracting brands"
   ]
  },
  {
   "cell_type": "code",
   "execution_count": null,
   "id": "e81c879e",
   "metadata": {},
   "outputs": [],
   "source": [
    "brand_tags=driver.find_elements_by_xpath('//div[@class=\"_2WkVRV\"]')\n",
    "brand_tags"
   ]
  },
  {
   "cell_type": "code",
   "execution_count": null,
   "id": "7b9a2d78",
   "metadata": {},
   "outputs": [],
   "source": [
    "brands=[]\n",
    "for i in brand_tags:\n",
    "    brands.append(i.text)\n",
    "brands"
   ]
  },
  {
   "cell_type": "markdown",
   "id": "52ab2d3d",
   "metadata": {},
   "source": [
    "### Extracting product description"
   ]
  },
  {
   "cell_type": "code",
   "execution_count": null,
   "id": "0ed41a9a",
   "metadata": {},
   "outputs": [],
   "source": [
    "des_tags=driver.find_elements_by_xpath('//a[@class=\"IRpwTa\"]')\n",
    "\n",
    "Product_Description=[]\n",
    "for i in des_tags:\n",
    "    Product_Description.append(i.text)\n",
    "Product_Description\n"
   ]
  },
  {
   "cell_type": "markdown",
   "id": "f92fc702",
   "metadata": {},
   "source": [
    "### extracting price"
   ]
  },
  {
   "cell_type": "code",
   "execution_count": null,
   "id": "0199d43a",
   "metadata": {},
   "outputs": [],
   "source": [
    "price_tags=driver.find_elements_by_xpath('//div[@class=\"_30jeq3\"]')\n",
    "price=[]\n",
    "for i in price_tags:\n",
    "    price.append(i.text.replace('₹',''))\n",
    "price"
   ]
  },
  {
   "cell_type": "markdown",
   "id": "c85e0c67",
   "metadata": {},
   "source": [
    "### extracting offers"
   ]
  },
  {
   "cell_type": "code",
   "execution_count": null,
   "id": "eb3dc454",
   "metadata": {},
   "outputs": [],
   "source": [
    "offer_tags=driver.find_elements_by_xpath('//div[@class=\"_3Ay6Sb\"]')\n",
    "offers=[]\n",
    "for i in offer_tags:\n",
    "    offers.append(i.text.replace('off',''))\n",
    "offers"
   ]
  },
  {
   "cell_type": "markdown",
   "id": "e24e2622",
   "metadata": {},
   "source": [
    "### making dataframe"
   ]
  },
  {
   "cell_type": "code",
   "execution_count": null,
   "id": "b05392cf",
   "metadata": {},
   "outputs": [],
   "source": [
    "df=pd.DataFrame()\n",
    "df['Brand']=brands\n",
    "#df['Product_Description']=Product_Description\n",
    "df['Price(₹)']=price\n",
    "df['Offer(off)']=offers\n",
    "df"
   ]
  },
  {
   "cell_type": "markdown",
   "id": "16ffa1d1",
   "metadata": {},
   "source": [
    "(Q6) Scrape data for first 100 sneakers you find when you visit flipkart.com andsearch for “sneakers” in the\n",
    "search field.\n",
    "You have to scrape 4 attributes of each sneaker:\n",
    "1. Brand\n",
    "2. Product Description\n",
    "3. Price"
   ]
  },
  {
   "cell_type": "code",
   "execution_count": null,
   "id": "fbe40970",
   "metadata": {},
   "outputs": [],
   "source": [
    "driver=webdriver.Chrome(r\"C:\\Users\\91832\\Downloads\\chromedriver_win32\\chromedriver.exe\")\n",
    "driver"
   ]
  },
  {
   "cell_type": "code",
   "execution_count": null,
   "id": "c3396689",
   "metadata": {},
   "outputs": [],
   "source": [
    "url='https://www.flipkart.com/'\n",
    "driver.get(url)"
   ]
  },
  {
   "cell_type": "code",
   "execution_count": null,
   "id": "fe2686ee",
   "metadata": {},
   "outputs": [],
   "source": [
    "search_sneakers=driver.find_element_by_class_name(\"_3704LK\")\n",
    "search_sneakers.send_keys('Sneakers')"
   ]
  },
  {
   "cell_type": "code",
   "execution_count": null,
   "id": "a7b86a95",
   "metadata": {},
   "outputs": [],
   "source": [
    "search_btn=driver.find_element_by_class_name(\"L0Z3Pu\")\n",
    "search_btn.submit()"
   ]
  },
  {
   "cell_type": "code",
   "execution_count": null,
   "id": "bc5db5b7",
   "metadata": {},
   "outputs": [],
   "source": [
    "# Extracting brand\n",
    "brand_tags=driver.find_elements_by_xpath('//div[@class=\"_2WkVRV\"]')\n",
    "brands=[]\n",
    "for i in brand_tags:\n",
    "    brands.append(i.text)\n",
    "brands"
   ]
  },
  {
   "cell_type": "code",
   "execution_count": null,
   "id": "21f866a5",
   "metadata": {},
   "outputs": [],
   "source": [
    "# extracting product description\n",
    "product_tags=driver.find_elements_by_xpath('//a[@class=\"IRpwTa\"]')\n",
    "product_desc=[]\n",
    "for i in product_tags:\n",
    "    product_desc.append(i.text)\n",
    "product_desc"
   ]
  },
  {
   "cell_type": "code",
   "execution_count": null,
   "id": "a47c9646",
   "metadata": {},
   "outputs": [],
   "source": [
    "# extracting price\n",
    "price_tags=driver.find_elements_by_xpath('//div[@class=\"_30jeq3\"]')\n",
    "price=[]\n",
    "for i in price_tags:\n",
    "    price.append(i.text.replace('₹',''))\n",
    "price"
   ]
  },
  {
   "cell_type": "code",
   "execution_count": null,
   "id": "cefd81c2",
   "metadata": {},
   "outputs": [],
   "source": [
    "# extracting offers\n",
    "offer_tags=driver.find_elements_by_xpath('//div[@class=\"_3Ay6Sb\"]')\n",
    "offers=[]\n",
    "for i in offer_tags:\n",
    "    offers.append(i.text.replace('off','').replace('%',''))\n",
    "offers"
   ]
  },
  {
   "cell_type": "code",
   "execution_count": null,
   "id": "416664e4",
   "metadata": {},
   "outputs": [],
   "source": [
    "# making data frame\n",
    "df=pd.DataFrame()\n",
    "df['Brand']=brands\n",
    "#df['Product_Description']=product_desc\n",
    "df['Price(₹)']=price\n",
    "df['offer(%)']=offers\n",
    "df"
   ]
  },
  {
   "cell_type": "markdown",
   "id": "ca3bf7be",
   "metadata": {},
   "source": [
    "(Q7)Go to the link - https://www.myntra.com/shoes\n",
    "Set Price filter to “Rs. 7149 to Rs. 14099 ” , Color filter to “Black”, as shown inthe below image.\n",
    "And then scrape First 100 shoes data you get. The data should include “Brand” of the shoes , Short Shoe\n",
    "description, price of the shoe as shown in the below image"
   ]
  },
  {
   "cell_type": "code",
   "execution_count": null,
   "id": "f5bc4471",
   "metadata": {},
   "outputs": [],
   "source": [
    "driver=webdriver.Chrome(r\"C:\\Users\\91832\\Downloads\\chromedriver_win32\\chromedriver.exe\")\n",
    "url='https://www.myntra.com/shoes'\n",
    "driver.get(url)"
   ]
  },
  {
   "cell_type": "code",
   "execution_count": null,
   "id": "385eb4eb",
   "metadata": {},
   "outputs": [],
   "source": [
    "search_price=driver.find_element_by_xpath('/html/body/div[2]/div/div[1]/main/div[3]/div[1]/section/div/div[5]/ul/li[2]/label/div')\n",
    "search_price.click()"
   ]
  },
  {
   "cell_type": "code",
   "execution_count": null,
   "id": "ee30471e",
   "metadata": {},
   "outputs": [],
   "source": [
    "search_color=driver.find_element_by_xpath('/html/body/div[2]/div/div[1]/main/div[3]/div[1]/section/div/div[6]/ul/li[1]/label/div')\n",
    "search_color.click()"
   ]
  },
  {
   "cell_type": "code",
   "execution_count": null,
   "id": "fe546f54",
   "metadata": {},
   "outputs": [],
   "source": [
    "# extracting brands\n",
    "brand_tags=driver.find_elements_by_xpath('//h3[@class=\"product-brand\"]')\n",
    "brands=[]\n",
    "for i in brand_tags:\n",
    "    brands.append(i.text)\n",
    "brands"
   ]
  },
  {
   "cell_type": "code",
   "execution_count": null,
   "id": "4b544900",
   "metadata": {},
   "outputs": [],
   "source": [
    "# extracting shoe description\n",
    "desc_tags=driver.find_elements_by_xpath('//h4[@class=\"product-product\"]')\n",
    "shoe_description=[]\n",
    "for i in desc_tags:\n",
    "    shoe_description.append(i.text)\n",
    "shoe_description"
   ]
  },
  {
   "cell_type": "code",
   "execution_count": null,
   "id": "df287293",
   "metadata": {},
   "outputs": [],
   "source": [
    "#extracting shoe price\n",
    "price_tags=driver.find_elements_by_xpath('//div[@class=\"product-price\"]')\n",
    "price=[]\n",
    "for i in price_tags:\n",
    "    price.append(i.text.replace('Rs.','')[:6])\n",
    "price"
   ]
  },
  {
   "cell_type": "code",
   "execution_count": null,
   "id": "9f93205b",
   "metadata": {},
   "outputs": [],
   "source": [
    "# making data frame\n",
    "df=pd.DataFrame()\n",
    "df['Brand']=brands\n",
    "df['Description']=shoe_description\n",
    "df['Price(Rs.)']=price\n",
    "df"
   ]
  },
  {
   "cell_type": "markdown",
   "id": "0ac0cace",
   "metadata": {},
   "source": [
    "(Q8) Go to webpage https://www.amazon.in/\n",
    "Enter “Laptop” in the search field and then click the search icon.\n",
    "Then set CPU Type filter to “Intel Core i7” and “Intel Core i9” as shown in the below image:\n",
    "After setting the filters scrape first 10 laptops data. You have to scrape 3 attributesfor each laptop:\n",
    "1. Title\n",
    "2. Ratings\n",
    "3. Price"
   ]
  },
  {
   "cell_type": "code",
   "execution_count": null,
   "id": "c66e8de8",
   "metadata": {},
   "outputs": [],
   "source": [
    "driver=webdriver.Chrome(r\"C:\\Users\\91832\\Downloads\\chromedriver_win32\\chromedriver.exe\")\n",
    "url='https://www.amazon.in/'\n",
    "driver.get(url)"
   ]
  },
  {
   "cell_type": "code",
   "execution_count": null,
   "id": "1104c251",
   "metadata": {},
   "outputs": [],
   "source": [
    "search_laptop=driver.find_element_by_xpath(\"/html/body/div[1]/header/div/div[1]/div[2]/div/form/div[2]/div[1]/input\")\n",
    "search_laptop.send_keys('Laptop')"
   ]
  },
  {
   "cell_type": "code",
   "execution_count": null,
   "id": "661e9491",
   "metadata": {},
   "outputs": [],
   "source": [
    "search_btn=driver.find_element_by_xpath(\"/html/body/div[1]/header/div/div[1]/div[2]/div/form/div[3]/div/span/input\")\n",
    "search_btn.click()"
   ]
  },
  {
   "cell_type": "code",
   "execution_count": null,
   "id": "0d3ea573",
   "metadata": {},
   "outputs": [],
   "source": [
    "search_cpu=driver.find_element_by_xpath(\"/html/body/div[1]/div[2]/div[1]/div[2]/div/div[3]/span/div[1]/div/div/div[5]/ul[3]/li[11]/span/a/div/label/i\")\n",
    "search_cpu.click()"
   ]
  },
  {
   "cell_type": "code",
   "execution_count": null,
   "id": "e2d0cb2b",
   "metadata": {},
   "outputs": [],
   "source": [
    "# extracting titles\n",
    "title_tags=driver.find_elements_by_xpath('//h2[@class=\"a-size-mini a-spacing-none a-color-base s-line-clamp-2\"]')\n",
    "titles=[]\n",
    "for i in title_tags:\n",
    "    titles.append(i.text)\n",
    "titles[:10]"
   ]
  },
  {
   "cell_type": "code",
   "execution_count": null,
   "id": "6a852596",
   "metadata": {},
   "outputs": [],
   "source": [
    "#extracting ratings\n",
    "rating_tags=driver.find_elements_by_xpath('//span[@class=\"a-icon-alt\"]')\n",
    "ratings=[]\n",
    "for i in rating_tags:\n",
    "    ratings.append(i.text)\n",
    "ratings[:10]"
   ]
  },
  {
   "cell_type": "code",
   "execution_count": null,
   "id": "9bffedb9",
   "metadata": {},
   "outputs": [],
   "source": [
    "#scraping price\n",
    "price_tags=driver.find_elements_by_xpath('//span[@class=\"a-price-whole\"]')\n",
    "price=[]\n",
    "for i in price_tags:\n",
    "    price.append(i.text)\n",
    "price[:10]"
   ]
  },
  {
   "cell_type": "markdown",
   "id": "8bd8fe90",
   "metadata": {},
   "source": [
    "(Q9) Write a python program to scrape data for first 10 job results for Data Scientist Designation in Noida\n",
    "location. You have to scrape company name, No. of days ago when job was posted, Rating of the company.\n",
    "This task will be done in following steps:\n",
    "1. First get the webpage https://www.ambitionbox.com/\n",
    "2. Click on the Job option as shown in the image\n",
    "3. After reaching to the next webpage, In place of “Search by Designations, Companies, Skills” enter\n",
    "“Data Scientist” and click on search button.\n",
    "You will reach to the following web page click on location and in place of “Search location” enter\n",
    "“Noida” and select location “Noida”.\n",
    "5. Then scrape the data for the first 10 jobs results you get on the above shown page.\n",
    "6. Finally create a dataframe of the scraped data.\n"
   ]
  },
  {
   "cell_type": "code",
   "execution_count": null,
   "id": "fcc4d984",
   "metadata": {},
   "outputs": [],
   "source": [
    "# connect webpage\n",
    "driver=webdriver.Chrome(r\"C:\\Users\\91832\\Downloads\\chromedriver_win32\\chromedriver.exe\")\n",
    "url='https://www.ambitionbox.com/'\n",
    "driver.get(url)"
   ]
  },
  {
   "cell_type": "code",
   "execution_count": null,
   "id": "a7907ddb",
   "metadata": {},
   "outputs": [],
   "source": [
    "#finding web element for jobs\n",
    "search_jobs=driver.find_element_by_xpath('/html/body/div[1]/nav/nav/a[6]')\n",
    "search_jobs.click()"
   ]
  },
  {
   "cell_type": "code",
   "execution_count": null,
   "id": "6745e958",
   "metadata": {},
   "outputs": [],
   "source": [
    "#finding web element for Designations, Companies, Skills\n",
    "search_designation=driver.find_element_by_xpath('/html/body/div/div/div/div[2]/div[1]/div/div/div/div/span/input')\n",
    "search_designation.send_keys('Data Scientist')"
   ]
  },
  {
   "cell_type": "code",
   "execution_count": null,
   "id": "3fd296fa",
   "metadata": {},
   "outputs": [],
   "source": [
    "#finding web element for search button\n",
    "search_btn=driver.find_element_by_xpath('/html/body/div/div/div/div[2]/div[1]/div/div/div/button/span')\n",
    "search_btn.click()"
   ]
  },
  {
   "cell_type": "code",
   "execution_count": null,
   "id": "9666f3be",
   "metadata": {},
   "outputs": [],
   "source": [
    "#finding web element for location button\n",
    "search_location_btn=driver.find_element_by_xpath('/html/body/div/div/div/div[2]/div[2]/div[1]/div/div/div/div[2]/div[1]/p')\n",
    "search_location_btn.click()"
   ]
  },
  {
   "cell_type": "code",
   "execution_count": null,
   "id": "5c1c8547",
   "metadata": {},
   "outputs": [],
   "source": [
    "#finding web element for locations\n",
    "search_location=driver.find_element_by_xpath(\"/html/body/div/div/div/div[2]/div[2]/div[1]/div/div/div/div[2]/div[2]/div/div[2]/input\")\n",
    "search_location.send_keys('Noida')"
   ]
  },
  {
   "cell_type": "code",
   "execution_count": null,
   "id": "8227b8f4",
   "metadata": {},
   "outputs": [],
   "source": [
    "#finding web element for select noida\n",
    "lcn_noida=driver.find_element_by_xpath('/html/body/div/div/div/div[2]/div[2]/div[1]/div/div/div/div[2]/div[2]/div/div[3]/div[1]/div[1]/div/label')\n",
    "lcn_noida.click()"
   ]
  },
  {
   "cell_type": "code",
   "execution_count": null,
   "id": "ef4212c9",
   "metadata": {},
   "outputs": [],
   "source": [
    "# extracting company name\n",
    "company_tags=driver.find_elements_by_xpath('//p[@class=\"company body-medium\"]')\n",
    "companies=[]\n",
    "for i in company_tags:\n",
    "    companies.append(i.text)\n",
    "companies"
   ]
  },
  {
   "cell_type": "code",
   "execution_count": null,
   "id": "c64a3838",
   "metadata": {},
   "outputs": [],
   "source": [
    "#extracting No. of days ago when job was posted\n",
    "days_tags=driver.find_elements_by_xpath('//span[@class=\"body-small-l\"]')\n",
    "posted_days=[]\n",
    "for i in days_tags:\n",
    "    posted_days.append(i.text)\n",
    "posted_days\n"
   ]
  },
  {
   "cell_type": "code",
   "execution_count": null,
   "id": "b26386cc",
   "metadata": {},
   "outputs": [],
   "source": [
    "# extracting company ratings\n",
    "rating_tags=driver.find_elements_by_xpath('//span[@class=\"body-small\"]')\n",
    "ratings=[]\n",
    "for i in rating_tags:\n",
    "    ratings.append(i.text)\n",
    "ratings"
   ]
  },
  {
   "cell_type": "code",
   "execution_count": null,
   "id": "58448527",
   "metadata": {},
   "outputs": [],
   "source": [
    "# create data frame\n",
    "df=pd.DataFrame()\n",
    "df['Company']=companies\n",
    "df['Rating']=ratings\n",
    "#df['Posted']=posted_days\n",
    "df"
   ]
  },
  {
   "cell_type": "markdown",
   "id": "b04fe403",
   "metadata": {},
   "source": [
    "(Q10) Write a python program to scrape the salary data for Data Scientist designation.\n",
    "You have to scrape Company name, Number of salaries, Average salary, Minsalary, Max Salary.\n",
    "The above task will be, done as shown in the below steps:\n",
    "1. First get the webpage https://www.ambitionbox.com/\n",
    "2. Click on the salaries option as shown in the image.\n",
    "3. After reaching to the following webpage, In place of “Search Job Profile” enters “Data Scientist” and\n",
    "then click on “Data Scientist”.\n",
    "4. Scrape the data for the first 10 companies. Scrape the company name, total salary record, average\n",
    "salary, minimum salary, maximum salary, experience required.\n",
    "5. Store the data in a dataframe."
   ]
  },
  {
   "cell_type": "code",
   "execution_count": null,
   "id": "ddcd611a",
   "metadata": {},
   "outputs": [],
   "source": [
    "# connect webpage\n",
    "driver=webdriver.Chrome(r\"C:\\Users\\91832\\Downloads\\chromedriver_win32\\chromedriver.exe\")\n",
    "url='https://www.ambitionbox.com/'\n",
    "driver.get(url)"
   ]
  },
  {
   "cell_type": "code",
   "execution_count": null,
   "id": "99d85ebd",
   "metadata": {},
   "outputs": [],
   "source": [
    "#finding web element for salaries\n",
    "search_sal=driver.find_element_by_xpath('/html/body/div[1]/nav/nav/a[4]')\n",
    "search_sal.click()"
   ]
  },
  {
   "cell_type": "code",
   "execution_count": null,
   "id": "064aa055",
   "metadata": {},
   "outputs": [],
   "source": [
    "search_job=driver.find_element_by_xpath('/html/body/div/div/div/main/section[1]/div[2]/div[1]/span/input')\n",
    "search_job.send_keys(\"Data scientist\")"
   ]
  },
  {
   "cell_type": "code",
   "execution_count": null,
   "id": "06ac3e1a",
   "metadata": {},
   "outputs": [],
   "source": [
    "search_dst=driver.find_element_by_xpath(\"/html/body/div/div/div/main/section[1]/div[2]/div[1]/span/div/div/div[1]/div/div/p\")\n",
    "search_dst.click()"
   ]
  },
  {
   "cell_type": "code",
   "execution_count": null,
   "id": "e12c2536",
   "metadata": {},
   "outputs": [],
   "source": [
    "#Scraping the company names\n",
    "company_tags=driver.find_elements_by_xpath('//div[@class=\"name\"]')\n",
    "company_names=[]\n",
    "for i in company_tags:\n",
    "    company_names.append(i.text.replace('\\nbased on','').replace('salaries','')[:-3])\n",
    "company_names"
   ]
  },
  {
   "cell_type": "code",
   "execution_count": null,
   "id": "e58bae9e",
   "metadata": {},
   "outputs": [],
   "source": [
    "#Scraping the average salary\n",
    "avg_sal_tags=driver.find_elements_by_xpath('//p[@class=\"averageCtc\"]')\n",
    "avg_sal=[]\n",
    "for i in avg_sal_tags:\n",
    "    avg_sal.append(i.text.replace('₹','').replace('L',''))\n",
    "avg_sal"
   ]
  },
  {
   "cell_type": "code",
   "execution_count": null,
   "id": "d42569c8",
   "metadata": {},
   "outputs": [],
   "source": [
    "#Scraping the minimum salary\n",
    "min_sal_tags=driver.find_elements_by_xpath('//div[@class=\"value body-medium\"]')\n",
    "min_sal=[]\n",
    "for i in min_sal_tags:\n",
    "    min_sal.append(i.text.replace('₹','').replace('L',''))\n",
    "min_sal"
   ]
  },
  {
   "cell_type": "code",
   "execution_count": null,
   "id": "61bb2c1f",
   "metadata": {},
   "outputs": [],
   "source": [
    "#Scraping the required experience\n",
    "exp_tags=driver.find_elements_by_xpath('//div[@class=\"salaries sbold-list-header\"]')\n",
    "exp=[]\n",
    "for i in exp_tags:\n",
    "    exp.append(i.text.replace('Data Scientist\\n . \\n','').replace('yrs exp',''))\n",
    "exp"
   ]
  },
  {
   "cell_type": "code",
   "execution_count": null,
   "id": "98dbd527",
   "metadata": {},
   "outputs": [],
   "source": [
    "#data frame\n",
    "df=pd.DataFrame()\n",
    "df['Company']=company_names\n",
    "df['Average Salary(Lacs)']=avg_sal\n",
    "#df['Min Salary(in Lacs)']=min_sal\n",
    "#df['Max Salary(Lacs)']=max_sal\n",
    "df['Experience(Yrs)']=exp\n",
    "df"
   ]
  },
  {
   "cell_type": "code",
   "execution_count": null,
   "id": "ecbb39e2",
   "metadata": {},
   "outputs": [],
   "source": []
  }
 ],
 "metadata": {
  "kernelspec": {
   "display_name": "Python 3",
   "language": "python",
   "name": "python3"
  },
  "language_info": {
   "codemirror_mode": {
    "name": "ipython",
    "version": 3
   },
   "file_extension": ".py",
   "mimetype": "text/x-python",
   "name": "python",
   "nbconvert_exporter": "python",
   "pygments_lexer": "ipython3",
   "version": "3.8.8"
  }
 },
 "nbformat": 4,
 "nbformat_minor": 5
}
